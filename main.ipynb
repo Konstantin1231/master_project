{
 "cells": [
  {
   "cell_type": "code",
   "execution_count": 1,
   "outputs": [],
   "source": [
    "\"\"\"\n",
    "        SETUP ENVIRONMENT\n",
    "\n",
    "Choose a game:\n",
    "- \"Cart\" # ok for 100 epoch\n",
    "- \"Car\" # not good choice\n",
    "- \"Pendulum\" # not good choice\n",
    "- \"Lake\" # demand more then 1500 epoch\n",
    "- \"Maze\" # 100 epoch is OK\n",
    "- \"Toy\" # 100 epoch\n",
    "\"\"\"\n",
    "GAME_NAME = \"Toy\"\n",
    "\"\"\"\n",
    "            INITIALIZING AGENTS and ENVIRONMENT\n",
    "\"\"\"\n",
    "\"\"\"-------------------------------------------------------------------\"\"\"\n",
    "from enviroment import *\n",
    "env, obs_dim, action_dim = game_setup(GAME_NAME )"
   ],
   "metadata": {
    "collapsed": false
   }
  },
  {
   "cell_type": "code",
   "execution_count": 2,
   "outputs": [
    {
     "name": "stdout",
     "output_type": "stream",
     "text": [
      "cuda\n"
     ]
    }
   ],
   "source": [
    "\"\"\"\n",
    "                 SETUP AGENT and TRAINING\n",
    "\"\"\"\n",
    "\"\"\"REINFORCE\"\"\"\n",
    "LEARNING_RATE_REIN = 0.0001\n",
    "HORIZON_REIN = 7\n",
    "HIDDEN_DIM_REIN = 32\n",
    "\"\"\"MATRYOSHKA\"\"\"\n",
    "LEARNING_RATE_MTR = 0.0001\n",
    "HORIZON_MTR= HORIZON_REIN\n",
    "HIDDEN_DIM_MTR = 32\n",
    "TAU = 0.4\n",
    "\"\"\"ResNet\"\"\"\n",
    "HIDDEN_DIM_RESNET = 16\n",
    "LEARNING_RATE_RESNET = LEARNING_RATE_MTR * 10\n",
    "#MTRNet with dynamically changing parameters number per layer\n",
    "INIT_HIDDEN_LAYER = 10\n",
    "\"\"\"Training\"\"\"\n",
    "NUM_EPOCHES = 100\n",
    "N_EPISODES = 10 # number of episodes per epoch. Used for both: Reinforce\n",
    "\"\"\"DYNAMICAL TAU AND LR\"\"\"\n",
    "PATIENCE = 20 # for dynamical tau and lr\n",
    "TAU_END = 0.3 # for dynamical tau\n",
    "LR_END = LEARNING_RATE_MTR / 1000 # for dynamical learning rate\n",
    "\"\"\"\n",
    "                    INITIALIZING AGENTS\n",
    "\"\"\"\n",
    "\"\"\"-------------------------------------------------------------------\"\"\"\n",
    "from NeuralNet import ReinforceAgent, MTRAgent\n",
    "from MtrNet import ReinforceMtrNetAgent, MtrNetAgent, ShortLongAgent\n",
    "import torch\n",
    "device = 'cuda' if torch.cuda.device_count() > 0 else 'cpu'\n",
    "print(device)\n",
    "#Reinforce Full Connected\n",
    "agent1 = ReinforceAgent(obs_dim,action_dim, hidden_dim=HIDDEN_DIM_REIN,horizon= HORIZON_REIN, learning_rate= LEARNING_RATE_REIN, game_name=GAME_NAME)\n",
    "agent1.policy.ntk_init()\n",
    "\n",
    "#Reinforce MTRNet (Custom ResNet)\n",
    "agent2 = ReinforceMtrNetAgent(obs_dim,action_dim, hidden_dim=HIDDEN_DIM_RESNET,horizon= HORIZON_REIN, learning_rate= LEARNING_RATE_RESNET , game_name= GAME_NAME, tau=TAU)\n",
    "agent2.policy.ntk_init()\n",
    "\n",
    "#MTR extra-dimension\n",
    "agent3 = MTRAgent(obs_dim, action_dim, hidden_dim= HIDDEN_DIM_MTR , horizon= HORIZON_MTR, learning_rate= LEARNING_RATE_MTR, game_name= GAME_NAME, tau=TAU)\n",
    "agent3.policy.ntk_init()\n",
    "\n",
    "#MTR with MTRNet\n",
    "agent4 = MtrNetAgent(obs_dim,action_dim, hidden_dim=HIDDEN_DIM_RESNET,horizon= HORIZON_MTR, learning_rate= LEARNING_RATE_RESNET , game_name= GAME_NAME, tau=TAU)\n",
    "agent4.policy.ntk_init()\n",
    "\n",
    "#MTR with MTRNet and dynamical number of parameter per layer\n",
    "agent6 = MtrNetAgent(obs_dim,action_dim, hidden_dim=INIT_HIDDEN_LAYER, horizon= HORIZON_MTR, learning_rate= LEARNING_RATE_RESNET , game_name= GAME_NAME, tau=TAU, dynamical_layer_param=True)\n",
    "agent6.policy.ntk_init()\n",
    "\n",
    "#ShortLongNet\n",
    "agent7 = ShortLongAgent(obs_dim,action_dim, hidden_dim=HIDDEN_DIM_RESNET,horizon= HORIZON_MTR, learning_rate= LEARNING_RATE_RESNET , game_name= GAME_NAME, tau=TAU)\n",
    "agent7.policy.ntk_init()"
   ],
   "metadata": {
    "collapsed": false
   }
  },
  {
   "cell_type": "code",
   "execution_count": 3,
   "outputs": [
    {
     "name": "stdout",
     "output_type": "stream",
     "text": [
      "beta full = 0\n",
      "Epoch 1\n",
      "tau 0.953\n",
      "Learning rate 0.07586 * 10^-3\n",
      "Reward: -1.2399999999999998\n",
      "\n"
     ]
    },
    {
     "name": "stderr",
     "output_type": "stream",
     "text": [
      "C:\\Users\\koq1231\\PycharmProjects\\RL\\NeuralNet.py:199: UserWarning: Creating a tensor from a list of numpy.ndarrays is extremely slow. Please consider converting the list to a single numpy.ndarray with numpy.array() before converting to a tensor. (Triggered internally at C:\\actions-runner\\_work\\pytorch\\pytorch\\builder\\windows\\pytorch\\torch\\csrc\\utils\\tensor_new.cpp:248.)\n",
      "  states_tensor = torch.FloatTensor(states)\n"
     ]
    },
    {
     "name": "stdout",
     "output_type": "stream",
     "text": [
      "Epoch 21\n",
      "tau 0.910\n",
      "Learning rate 0.05818 * 10^-3\n",
      "Reward: 0.12000000000000022\n",
      "\n",
      "Epoch 41\n",
      "tau 0.870\n",
      "Learning rate 0.04510 * 10^-3\n",
      "Reward: 2.2799999999999994\n",
      "\n",
      "Epoch 61\n",
      "tau 0.834\n",
      "Learning rate 0.03532 * 10^-3\n",
      "Reward: 2.1599999999999993\n",
      "\n",
      "Epoch 81\n",
      "tau 0.801\n",
      "Learning rate 0.02793 * 10^-3\n",
      "Reward: 0.3200000000000002\n",
      "\n",
      "Epoch 101\n",
      "tau 0.770\n",
      "Learning rate 0.02230 * 10^-3\n",
      "Reward: -1.5300000000000005\n",
      "\n",
      "Epoch 121\n",
      "tau 0.741\n",
      "Learning rate 0.01796 * 10^-3\n",
      "Reward: -0.9399999999999998\n",
      "\n",
      "Epoch 141\n",
      "tau 0.715\n",
      "Learning rate 0.01459 * 10^-3\n",
      "Reward: -3.2299999999999995\n",
      "\n",
      "Epoch 161\n",
      "tau 0.691\n",
      "Learning rate 0.01196 * 10^-3\n",
      "Reward: 1.78\n",
      "\n",
      "Epoch 181\n",
      "tau 0.668\n",
      "Learning rate 0.00987 * 10^-3\n",
      "Reward: 2.0\n",
      "\n",
      "Epoch 201\n",
      "tau 0.647\n",
      "Learning rate 0.00822 * 10^-3\n",
      "Reward: 1.3800000000000001\n",
      "\n",
      "Epoch 221\n",
      "tau 0.627\n",
      "Learning rate 0.00689 * 10^-3\n",
      "Reward: -0.5999999999999999\n",
      "\n",
      "Epoch 241\n",
      "tau 0.609\n",
      "Learning rate 0.00582 * 10^-3\n",
      "Reward: 0.9999999999999997\n",
      "\n",
      "Epoch 261\n",
      "tau 0.592\n",
      "Learning rate 0.00494 * 10^-3\n",
      "Reward: 2.16\n",
      "\n",
      "Epoch 281\n",
      "tau 0.576\n",
      "Learning rate 0.00423 * 10^-3\n",
      "Reward: 1.33\n",
      "\n",
      "Epoch 301\n",
      "tau 0.561\n",
      "Learning rate 0.00364 * 10^-3\n",
      "Reward: 1.47\n",
      "\n",
      "Epoch 321\n",
      "tau 0.547\n",
      "Learning rate 0.00315 * 10^-3\n",
      "Reward: 1.9300000000000002\n",
      "\n",
      "Epoch 341\n",
      "tau 0.534\n",
      "Learning rate 0.00275 * 10^-3\n",
      "Reward: 0.5400000000000001\n",
      "\n",
      "Epoch 361\n",
      "tau 0.522\n",
      "Learning rate 0.00241 * 10^-3\n",
      "Reward: 4.029999999999999\n",
      "\n",
      "Epoch 381\n",
      "tau 0.511\n",
      "Learning rate 0.00212 * 10^-3\n",
      "Reward: -0.5399999999999999\n",
      "\n",
      "Epoch 401\n",
      "tau 0.500\n",
      "Learning rate 0.00187 * 10^-3\n",
      "Reward: 1.5799999999999996\n",
      "\n",
      "Epoch 421\n",
      "tau 0.490\n",
      "Learning rate 0.00167 * 10^-3\n",
      "Reward: 2.3200000000000003\n",
      "\n",
      "Epoch 441\n",
      "tau 0.480\n",
      "Learning rate 0.00149 * 10^-3\n",
      "Reward: 1.35\n",
      "\n",
      "Epoch 461\n",
      "tau 0.471\n",
      "Learning rate 0.00134 * 10^-3\n",
      "Reward: -0.010000000000000142\n",
      "\n",
      "Epoch 481\n",
      "tau 0.463\n",
      "Learning rate 0.00121 * 10^-3\n",
      "Reward: -0.9399999999999998\n",
      "\n"
     ]
    }
   ],
   "source": [
    "\"\"\"\n",
    "        TRAINING (REINFORCE CLASSIC)\n",
    "        Remark: we are training two reinforce agents\n",
    "\"\"\"\n",
    "\"\"\"-------------------------------------------------------------------\"\"\"\n",
    "from utils import train_agent\n",
    "loss_list_1 = train_agent(agent1, env, num_epoches=NUM_EPOCHES, n_episodes=N_EPISODES, tau_end=TAU_END, lr_end=LR_END, patience=PATIENCE, clip_grad=False)"
   ],
   "metadata": {
    "collapsed": false
   }
  },
  {
   "cell_type": "code",
   "execution_count": null,
   "outputs": [],
   "source": [
    "\"\"\"\n",
    "        TRAINING (REINFORCE WITH MTR NN)\n",
    "        Remark: we are training two reinforce agents\n",
    "\"\"\"\n",
    "\"\"\"-------------------------------------------------------------------\"\"\"\n",
    "from utils import train_agent\n",
    "loss_list_2 = train_agent(agent2, env, num_epoches=NUM_EPOCHES, n_episodes=N_EPISODES, tau_end=TAU_END, lr_end=LR_END * 10, patience=PATIENCE, clip_grad=False)"
   ],
   "metadata": {
    "collapsed": false
   }
  },
  {
   "cell_type": "code",
   "execution_count": null,
   "outputs": [],
   "source": [
    "\"\"\"\n",
    "    Matryoshka EXTRA-DIMENSION Training\n",
    "\"\"\"\n",
    "\"\"\"-------------------------------------------------------------------\"\"\"\n",
    "from utils import train_agent\n",
    "loss_list_3 = train_agent(agent3, env, num_epoches=NUM_EPOCHES, n_episodes=N_EPISODES, tau_end=TAU_END, lr_end=LR_END, patience=PATIENCE, clip_grad=False)"
   ],
   "metadata": {
    "collapsed": false
   }
  },
  {
   "cell_type": "code",
   "execution_count": null,
   "outputs": [],
   "source": [
    "\"\"\"\n",
    "    MTRNet Training\n",
    "\"\"\"\n",
    "\"\"\"-------------------------------------------------------------------\"\"\"\n",
    "from utils import train_agent\n",
    "loss_list_4 = train_agent(agent4, env, num_epoches=NUM_EPOCHES, n_episodes=N_EPISODES, tau_end=TAU_END, lr_end=LR_END * 10, patience=PATIENCE, clip_grad=False)"
   ],
   "metadata": {
    "collapsed": false
   }
  },
  {
   "cell_type": "code",
   "execution_count": 8,
   "outputs": [
    {
     "name": "stdout",
     "output_type": "stream",
     "text": [
      "beta full = 0\n",
      "Epoch 1\n",
      "tau 0.400\n",
      "Learning rate 0.75858 * 10^-3\n",
      "Reward: 15.244266878645657\n",
      "\n",
      "Epoch 21\n",
      "tau 0.400\n",
      "Learning rate 0.58184 * 10^-3\n",
      "Reward: 15.028261437695093\n",
      "\n",
      "Epoch 41\n",
      "tau 0.400\n",
      "Learning rate 0.45103 * 10^-3\n",
      "Reward: 15.172265064995468\n",
      "\n",
      "Epoch 61\n",
      "tau 0.400\n",
      "Learning rate 0.35322 * 10^-3\n",
      "Reward: 15.244266878645657\n",
      "\n",
      "Epoch 81\n",
      "tau 0.400\n",
      "Learning rate 0.27933 * 10^-3\n",
      "Reward: 15.100263251345282\n",
      "\n",
      "Epoch 101\n",
      "tau 0.400\n",
      "Learning rate 0.22298 * 10^-3\n",
      "Reward: 15.244266878645657\n",
      "\n",
      "Epoch 121\n",
      "tau 0.400\n",
      "Learning rate 0.17961 * 10^-3\n",
      "Reward: 15.172265064995468\n",
      "\n",
      "Epoch 141\n",
      "tau 0.400\n",
      "Learning rate 0.14594 * 10^-3\n",
      "Reward: 15.172265064995472\n",
      "\n",
      "Epoch 161\n",
      "tau 0.400\n",
      "Learning rate 0.11956 * 10^-3\n",
      "Reward: 15.028261437695093\n",
      "\n",
      "Epoch 181\n",
      "tau 0.400\n",
      "Learning rate 0.09874 * 10^-3\n",
      "Reward: 15.172265064995472\n",
      "\n",
      "Epoch 201\n",
      "tau 0.400\n",
      "Learning rate 0.08217 * 10^-3\n",
      "Reward: 15.244266878645657\n",
      "\n",
      "Epoch 221\n",
      "tau 0.400\n",
      "Learning rate 0.06889 * 10^-3\n",
      "Reward: 15.100263251345282\n",
      "\n",
      "Epoch 241\n",
      "tau 0.400\n",
      "Learning rate 0.05816 * 10^-3\n",
      "Reward: 15.100263251345282\n",
      "\n",
      "Epoch 261\n",
      "tau 0.400\n",
      "Learning rate 0.04943 * 10^-3\n",
      "Reward: 15.100263251345279\n",
      "\n",
      "Epoch 281\n",
      "tau 0.400\n",
      "Learning rate 0.04229 * 10^-3\n",
      "Reward: 15.100263251345279\n",
      "\n",
      "Epoch 301\n",
      "tau 0.400\n",
      "Learning rate 0.03641 * 10^-3\n",
      "Reward: 15.172265064995472\n",
      "\n",
      "Epoch 321\n",
      "tau 0.400\n",
      "Learning rate 0.03153 * 10^-3\n",
      "Reward: 15.172265064995472\n",
      "\n",
      "Epoch 341\n",
      "tau 0.400\n",
      "Learning rate 0.02747 * 10^-3\n",
      "Reward: 15.172265064995468\n",
      "\n",
      "Epoch 361\n",
      "tau 0.400\n",
      "Learning rate 0.02406 * 10^-3\n",
      "Reward: 15.244266878645657\n",
      "\n",
      "Epoch 381\n",
      "tau 0.400\n",
      "Learning rate 0.02118 * 10^-3\n",
      "Reward: 15.100263251345279\n",
      "\n",
      "Epoch 401\n",
      "tau 0.400\n",
      "Learning rate 0.01875 * 10^-3\n",
      "Reward: 15.244266878645657\n",
      "\n",
      "Epoch 421\n",
      "tau 0.400\n",
      "Learning rate 0.01667 * 10^-3\n",
      "Reward: 15.172265064995468\n",
      "\n",
      "Epoch 441\n",
      "tau 0.400\n",
      "Learning rate 0.01490 * 10^-3\n",
      "Reward: 15.244266878645657\n",
      "\n",
      "Epoch 461\n",
      "tau 0.400\n",
      "Learning rate 0.01337 * 10^-3\n",
      "Reward: 15.172265064995472\n",
      "\n",
      "Epoch 481\n",
      "tau 0.400\n",
      "Learning rate 0.01206 * 10^-3\n",
      "Reward: 15.244266878645657\n",
      "\n"
     ]
    }
   ],
   "source": [
    "\"\"\"\n",
    "    MTRNet with dynamical number of parameters Training\n",
    "\"\"\"\n",
    "\"\"\"-------------------------------------------------------------------\"\"\"\n",
    "from utils import train_agent\n",
    "loss_list_6 = train_agent(agent6, env, num_epoches=NUM_EPOCHES, n_episodes=N_EPISODES, tau_end=agent6.tau, lr_end=LR_END * 10, patience=PATIENCE, clip_grad=False)"
   ],
   "metadata": {
    "collapsed": false
   }
  },
  {
   "cell_type": "code",
   "execution_count": 10,
   "outputs": [
    {
     "name": "stdout",
     "output_type": "stream",
     "text": [
      "Calculated until horizon 7\n"
     ]
    },
    {
     "data": {
      "text/plain": "{'1': array([6.43249537e-01, 5.60968374e+00, 5.03884349e-01, 1.20926773e+00,\n        1.10561907e+00, 3.53105772e+00, 1.43938668e-01, 1.12689155e+00,\n        3.67485271e-03]),\n '2': array([6.24886107, 6.81895147, 1.71127139, 2.40539367, 4.63627892,\n        3.67499641, 1.21361035, 1.76985568, 5.27812326]),\n '3': array([7.4581288 , 8.01507741, 3.65249618, 5.84533122, 4.78021838,\n        4.74466807, 4.64123077, 7.37542648, 6.59706497]),\n '4': array([ 8.6542548 , 11.45501496,  6.34149537,  5.98946597,  5.8501965 ,\n         8.17229048,  7.46751217,  8.58470419,  7.79638205]),\n '5': array([12.09419229, 11.59914971,  6.49092626,  7.13104539,  9.27757996,\n        10.99856992,  8.67656287,  9.78083052, 11.1239297 ]),\n '6': array([12.23832704, 12.74072913,  8.30789186, 10.5037437 , 12.10379224,\n        12.20762062, 10.5631146 , 13.22075774, 11.95113908]),\n '7': array([13.36503538, 12.53614957, 13.37990651, 16.11342744, 11.30469112,\n        13.31313015, 13.31284827, 14.09417397, 13.30626434])}"
     },
     "execution_count": 10,
     "metadata": {},
     "output_type": "execute_result"
    }
   ],
   "source": [
    "env.generate_all_q_stars(agent6.horizon, tau = agent6.tau)\n",
    "env.v_star"
   ],
   "metadata": {
    "collapsed": false
   }
  },
  {
   "cell_type": "code",
   "execution_count": 5,
   "outputs": [
    {
     "name": "stdout",
     "output_type": "stream",
     "text": [
      "beta full = 0.5\n"
     ]
    },
    {
     "ename": "IndexError",
     "evalue": "index 9 is out of bounds for dimension 0 with size 7",
     "output_type": "error",
     "traceback": [
      "\u001B[1;31m---------------------------------------------------------------------------\u001B[0m",
      "\u001B[1;31mIndexError\u001B[0m                                Traceback (most recent call last)",
      "Cell \u001B[1;32mIn[5], line 12\u001B[0m\n\u001B[0;32m     10\u001B[0m agent7\u001B[38;5;241m.\u001B[39mset_optimazer()\n\u001B[0;32m     11\u001B[0m agent7\u001B[38;5;241m.\u001B[39mpolicy\u001B[38;5;241m.\u001B[39mntk_init(agent7\u001B[38;5;241m.\u001B[39mbeta)\n\u001B[1;32m---> 12\u001B[0m loss_list_7 \u001B[38;5;241m=\u001B[39m \u001B[43mtrain_agent\u001B[49m\u001B[43m(\u001B[49m\u001B[43magent7\u001B[49m\u001B[43m,\u001B[49m\u001B[43m \u001B[49m\u001B[43menv\u001B[49m\u001B[43m,\u001B[49m\u001B[43m \u001B[49m\u001B[43mnum_epoches\u001B[49m\u001B[38;5;241;43m=\u001B[39;49m\u001B[43mNUM_EPOCHES\u001B[49m\u001B[43m,\u001B[49m\u001B[43m \u001B[49m\u001B[43mn_episodes\u001B[49m\u001B[38;5;241;43m=\u001B[39;49m\u001B[43mN_EPISODES\u001B[49m\u001B[43m,\u001B[49m\u001B[43m \u001B[49m\u001B[43mtau_end\u001B[49m\u001B[38;5;241;43m=\u001B[39;49m\u001B[43mTAU_END\u001B[49m\u001B[43m,\u001B[49m\u001B[43m \u001B[49m\u001B[43mlr_end\u001B[49m\u001B[38;5;241;43m=\u001B[39;49m\u001B[43mLR_END\u001B[49m\u001B[38;5;241;43m*\u001B[39;49m\u001B[38;5;241;43m100\u001B[39;49m\u001B[43m \u001B[49m\u001B[43m,\u001B[49m\u001B[43m \u001B[49m\u001B[43mpatience\u001B[49m\u001B[38;5;241;43m=\u001B[39;49m\u001B[43mPATIENCE\u001B[49m\u001B[43m,\u001B[49m\u001B[43m \u001B[49m\u001B[43mclip_grad\u001B[49m\u001B[38;5;241;43m=\u001B[39;49m\u001B[38;5;28;43;01mFalse\u001B[39;49;00m\u001B[43m)\u001B[49m\n",
      "File \u001B[1;32m~\\PycharmProjects\\RL\\utils.py:124\u001B[0m, in \u001B[0;36mtrain_agent\u001B[1;34m(agent, env, num_epoches, n_episodes, tau_end, lr_end, patience, clip_grad)\u001B[0m\n\u001B[0;32m    122\u001B[0m     episodes \u001B[38;5;241m=\u001B[39m run_episodes(agent, env, n_episodes\u001B[38;5;241m=\u001B[39mn_episodes)\n\u001B[0;32m    123\u001B[0m \u001B[38;5;66;03m# Update the policy based on the episodes\u001B[39;00m\n\u001B[1;32m--> 124\u001B[0m loss_list\u001B[38;5;241m.\u001B[39mappend(\u001B[43magent\u001B[49m\u001B[38;5;241;43m.\u001B[39;49m\u001B[43mtrain\u001B[49m\u001B[43m(\u001B[49m\u001B[43mepisodes\u001B[49m\u001B[43m,\u001B[49m\u001B[43m \u001B[49m\u001B[43mclip_grad\u001B[49m\u001B[38;5;241;43m=\u001B[39;49m\u001B[38;5;28;43;01mFalse\u001B[39;49;00m\u001B[43m)\u001B[49m)\n\u001B[0;32m    125\u001B[0m \u001B[38;5;28;01mif\u001B[39;00m epoch \u001B[38;5;241m%\u001B[39m patience \u001B[38;5;241m==\u001B[39m \u001B[38;5;241m0\u001B[39m:\n\u001B[0;32m    126\u001B[0m     agent\u001B[38;5;241m.\u001B[39mtau \u001B[38;5;241m=\u001B[39m agent\u001B[38;5;241m.\u001B[39mtau \u001B[38;5;241m*\u001B[39m compute_decay(tau_end, agent\u001B[38;5;241m.\u001B[39mtau, num_epoches, patience)\n",
      "File \u001B[1;32m~\\PycharmProjects\\RL\\MtrNet.py:459\u001B[0m, in \u001B[0;36mShortLongAgent.train\u001B[1;34m(self, episodes, gamma, clip_grad)\u001B[0m\n\u001B[0;32m    456\u001B[0m action_probs \u001B[38;5;241m=\u001B[39m \u001B[38;5;28mself\u001B[39m\u001B[38;5;241m.\u001B[39mpolicy(state_tensor, block_idx, tau\u001B[38;5;241m=\u001B[39m\u001B[38;5;28mself\u001B[39m\u001B[38;5;241m.\u001B[39mtau)\n\u001B[0;32m    458\u001B[0m \u001B[38;5;66;03m# Compute the policy gradient loss\u001B[39;00m\n\u001B[1;32m--> 459\u001B[0m loss \u001B[38;5;241m=\u001B[39m CustomLoss(\u001B[43mC\u001B[49m\u001B[43m[\u001B[49m\u001B[43mblock_idx\u001B[49m\u001B[43m]\u001B[49m)\n\u001B[0;32m    460\u001B[0m \u001B[38;5;28mself\u001B[39m\u001B[38;5;241m.\u001B[39moptimizer\u001B[38;5;241m.\u001B[39mzero_grad()\n\u001B[0;32m    461\u001B[0m loss(action_probs[\u001B[38;5;241m0\u001B[39m][action])\u001B[38;5;241m.\u001B[39mbackward()\n",
      "\u001B[1;31mIndexError\u001B[0m: index 9 is out of bounds for dimension 0 with size 7"
     ]
    }
   ],
   "source": [
    "\"\"\"\n",
    "    ShortLongNet Training\n",
    "    Remark: Horizon should be at least 10!\n",
    "\"\"\"\n",
    "\"\"\"-------------------------------------------------------------------\"\"\"\n",
    "from utils import train_agent\n",
    "agent7.beta = 0.5\n",
    "agent7.lr = 0.1\n",
    "agent7.tau = 0.7\n",
    "agent7.set_optimazer()\n",
    "agent7.policy.ntk_init()\n",
    "loss_list_7 = train_agent(agent7, env, num_epoches=NUM_EPOCHES, n_episodes=N_EPISODES, tau_end=TAU_END, lr_end=LR_END*100 , patience=PATIENCE, clip_grad=False)"
   ],
   "metadata": {
    "collapsed": false
   }
  },
  {
   "cell_type": "code",
   "execution_count": 5,
   "outputs": [
    {
     "name": "stdout",
     "output_type": "stream",
     "text": [
      "beta full = 0\n",
      "Epoch 1\n",
      "tau 1.000\n",
      "Learning rate 0.39811 * 10^-3\n",
      "Reward: -0.35\n",
      "\n",
      "Epoch 21\n",
      "tau 1.000\n",
      "Learning rate 0.17378 * 10^-3\n",
      "Reward: -0.37\n",
      "\n",
      "Epoch 41\n",
      "tau 1.000\n",
      "Learning rate 0.08241 * 10^-3\n",
      "Reward: 1.8599999999999999\n",
      "\n",
      "Epoch 61\n",
      "tau 1.000\n",
      "Learning rate 0.04211 * 10^-3\n",
      "Reward: 0.42000000000000004\n",
      "\n",
      "Epoch 81\n",
      "tau 1.000\n",
      "Learning rate 0.02301 * 10^-3\n",
      "Reward: 0.9399999999999998\n",
      "\n",
      "Epoch 101\n",
      "tau 1.000\n",
      "Learning rate 0.01336 * 10^-3\n",
      "Reward: -0.049999999999999954\n",
      "\n",
      "Epoch 121\n",
      "tau 1.000\n",
      "Learning rate 0.00819 * 10^-3\n",
      "Reward: -1.2899999999999998\n",
      "\n",
      "Epoch 141\n",
      "tau 1.000\n",
      "Learning rate 0.00527 * 10^-3\n",
      "Reward: 0.39\n",
      "\n",
      "Epoch 161\n",
      "tau 1.000\n",
      "Learning rate 0.00355 * 10^-3\n",
      "Reward: 0.9099999999999999\n",
      "\n",
      "Epoch 181\n",
      "tau 1.000\n",
      "Learning rate 0.00248 * 10^-3\n",
      "Reward: 1.5400000000000003\n",
      "\n"
     ]
    }
   ],
   "source": [
    "\"\"\"\n",
    "    Matryoshka \"ORIGINAL\" Training\n",
    "\"\"\"\n",
    "from original import OriginalMtrAgent\n",
    "# Set-up agent\n",
    "HIDDEN_DIM_ORIGINAL = 16\n",
    "HORIZON_ORIGINAL = 5\n",
    "TAU_ORIGINAL = 1\n",
    "LEARNING_RATE_ORIGINAL = LEARNING_RATE_RESNET\n",
    "NUM_EPOCHES = 200\n",
    "\"\"\"-------------------------------------------------------------------\"\"\"\n",
    "agent5 = OriginalMtrAgent(obs_dim,action_dim, hidden_dim=HIDDEN_DIM_ORIGINAL,horizon= HORIZON_ORIGINAL, learning_rate= LEARNING_RATE_ORIGINAL , game_name= GAME_NAME, tau=TAU_ORIGINAL)\n",
    "agent5.policy.ntk_init()\n",
    "#training\n",
    "from utils import train_agent\n",
    "loss_list_5 = train_agent(agent5, env, num_epoches=NUM_EPOCHES, n_episodes=N_EPISODES, tau_end=TAU_ORIGINAL, lr_end=LR_END, patience=PATIENCE, clip_grad=False)"
   ],
   "metadata": {
    "collapsed": false
   }
  },
  {
   "cell_type": "code",
   "execution_count": 6,
   "outputs": [
    {
     "ename": "NameError",
     "evalue": "name 'loss_list_2' is not defined",
     "output_type": "error",
     "traceback": [
      "\u001B[1;31m---------------------------------------------------------------------------\u001B[0m",
      "\u001B[1;31mNameError\u001B[0m                                 Traceback (most recent call last)",
      "Cell \u001B[1;32mIn[6], line 9\u001B[0m\n\u001B[0;32m      7\u001B[0m ax1 \u001B[38;5;241m=\u001B[39m fig\u001B[38;5;241m.\u001B[39madd_subplot(\u001B[38;5;241m1\u001B[39m,\u001B[38;5;241m1\u001B[39m,\u001B[38;5;241m1\u001B[39m)\n\u001B[0;32m      8\u001B[0m ax1\u001B[38;5;241m.\u001B[39mscatter(\u001B[38;5;28mrange\u001B[39m(\u001B[38;5;28mlen\u001B[39m(loss_list_1)),loss_list_1, label\u001B[38;5;241m=\u001B[39m\u001B[38;5;124mf\u001B[39m\u001B[38;5;124m\"\u001B[39m\u001B[38;5;132;01m{\u001B[39;00magent1\u001B[38;5;241m.\u001B[39mname\u001B[38;5;132;01m}\u001B[39;00m\u001B[38;5;124m: BETA = \u001B[39m\u001B[38;5;132;01m{\u001B[39;00magent1\u001B[38;5;241m.\u001B[39mbeta\u001B[38;5;132;01m}\u001B[39;00m\u001B[38;5;124m\"\u001B[39m)\n\u001B[1;32m----> 9\u001B[0m ax1\u001B[38;5;241m.\u001B[39mscatter(\u001B[38;5;28mrange\u001B[39m(\u001B[38;5;28mlen\u001B[39m(\u001B[43mloss_list_2\u001B[49m)),loss_list_2, label\u001B[38;5;241m=\u001B[39m\u001B[38;5;124mf\u001B[39m\u001B[38;5;124m\"\u001B[39m\u001B[38;5;132;01m{\u001B[39;00magent2\u001B[38;5;241m.\u001B[39mname\u001B[38;5;132;01m}\u001B[39;00m\u001B[38;5;124m: BETA = \u001B[39m\u001B[38;5;132;01m{\u001B[39;00magent2\u001B[38;5;241m.\u001B[39mbeta\u001B[38;5;132;01m}\u001B[39;00m\u001B[38;5;124m\"\u001B[39m)\n\u001B[0;32m     10\u001B[0m ax1\u001B[38;5;241m.\u001B[39mscatter(\u001B[38;5;28mrange\u001B[39m(\u001B[38;5;28mlen\u001B[39m(loss_list_3)),loss_list_3, label\u001B[38;5;241m=\u001B[39m\u001B[38;5;124mf\u001B[39m\u001B[38;5;124m\"\u001B[39m\u001B[38;5;132;01m{\u001B[39;00magent3\u001B[38;5;241m.\u001B[39mname\u001B[38;5;132;01m}\u001B[39;00m\u001B[38;5;124m: BETA = \u001B[39m\u001B[38;5;132;01m{\u001B[39;00magent3\u001B[38;5;241m.\u001B[39mbeta\u001B[38;5;132;01m}\u001B[39;00m\u001B[38;5;124m, TAU = \u001B[39m\u001B[38;5;132;01m{\u001B[39;00magent3\u001B[38;5;241m.\u001B[39mtau\u001B[38;5;132;01m}\u001B[39;00m\u001B[38;5;124m\"\u001B[39m)\n\u001B[0;32m     11\u001B[0m ax1\u001B[38;5;241m.\u001B[39mscatter(\u001B[38;5;28mrange\u001B[39m(\u001B[38;5;28mlen\u001B[39m(loss_list_4)),loss_list_4, label\u001B[38;5;241m=\u001B[39m\u001B[38;5;124mf\u001B[39m\u001B[38;5;124m\"\u001B[39m\u001B[38;5;132;01m{\u001B[39;00magent4\u001B[38;5;241m.\u001B[39mname\u001B[38;5;132;01m}\u001B[39;00m\u001B[38;5;124m: BETA = \u001B[39m\u001B[38;5;132;01m{\u001B[39;00magent4\u001B[38;5;241m.\u001B[39mbeta\u001B[38;5;132;01m}\u001B[39;00m\u001B[38;5;124m, TAU = \u001B[39m\u001B[38;5;132;01m{\u001B[39;00magent4\u001B[38;5;241m.\u001B[39mtau\u001B[38;5;132;01m}\u001B[39;00m\u001B[38;5;124m\"\u001B[39m)\n",
      "\u001B[1;31mNameError\u001B[0m: name 'loss_list_2' is not defined"
     ]
    },
    {
     "data": {
      "text/plain": "<Figure size 800x800 with 1 Axes>",
      "image/png": "[encoded data removed]"
     },
     "metadata": {},
     "output_type": "display_data"
    }
   ],
   "source": [
    "\"\"\"\n",
    "        COMPARE REINFORCE VS MTR\n",
    "        Remark: Run if you have trained both: Reinforce and Matryoshka.\n",
    "\"\"\"\n",
    "\"\"\"-------------------------------------------------------------------\"\"\"\n",
    "fig = plt.figure(figsize=(8,8))\n",
    "ax1 = fig.add_subplot(1,1,1)\n",
    "ax1.scatter(range(len(loss_list_1)),loss_list_1, label=f\"{agent1.name}: BETA = {agent1.beta}\")\n",
    "ax1.scatter(range(len(loss_list_2)),loss_list_2, label=f\"{agent2.name}: BETA = {agent2.beta}\")\n",
    "ax1.scatter(range(len(loss_list_3)),loss_list_3, label=f\"{agent3.name}: BETA = {agent3.beta}, TAU = {agent3.tau}\")\n",
    "ax1.scatter(range(len(loss_list_4)),loss_list_4, label=f\"{agent4.name}: BETA = {agent4.beta}, TAU = {agent4.tau}\")\n",
    "ax1.set_title(f\"Horizon = {HORIZON_MTR}; Game = {GAME_NAME}\")\n",
    "ax1.set_ylabel(\"Total Reward\")\n",
    "ax1.set_xlabel(\"Epoch\")\n",
    "ax1.grid()\n",
    "ax1.legend()\n",
    "plt.savefig(f'images/{GAME_NAME}_3.jpg', format='jpeg')\n",
    "plt.show()"
   ],
   "metadata": {
    "collapsed": false
   }
  },
  {
   "cell_type": "code",
   "execution_count": null,
   "outputs": [],
   "source": [
    "\"\"\"\n",
    "        COMPARE ORIGINAL VS MTRNet VS MTR extra-dim.\n",
    "        Remark: Run if you have trained both: Original and Matryoshka.\n",
    "\"\"\"\n",
    "\"\"\"-------------------------------------------------------------------\"\"\"\n",
    "fig = plt.figure(figsize=(8,8))\n",
    "ax1 = fig.add_subplot(1,1,1)\n",
    "ax1.scatter(range(len(loss_list_5)),loss_list_5, label=f\"{agent5.name}: BETA = {agent5.beta}, TAU = {agent5.tau}\")\n",
    "ax1.scatter(range(len(loss_list_3)),loss_list_3, label=f\"{agent3.name}: BETA = {agent3.beta}, TAU = {agent3.tau}\")\n",
    "ax1.scatter(range(len(loss_list_4)),loss_list_4, label=f\"{agent4.name}: BETA = {agent4.beta}, TAU = {agent4.tau}\")\n",
    "ax1.set_title(f\"Horizon = {HORIZON_MTR}; Game = {GAME_NAME}\")\n",
    "ax1.set_ylabel(\"Total Reward\")\n",
    "ax1.set_xlabel(\"Epoch\")\n",
    "ax1.grid()\n",
    "ax1.legend()\n",
    "plt.savefig(f'images/{GAME_NAME}_6.jpg', format='jpeg')\n",
    "plt.show()"
   ],
   "metadata": {
    "collapsed": false
   }
  },
  {
   "cell_type": "code",
   "execution_count": 6,
   "outputs": [
    {
     "name": "stdout",
     "output_type": "stream",
     "text": [
      "Calculated until horizon 5\n"
     ]
    },
    {
     "data": {
      "text/plain": "<Figure size 640x480 with 1 Axes>",
      "image/png": "[encoded data removed]"
     },
     "metadata": {},
     "output_type": "display_data"
    },
    {
     "data": {
      "text/plain": "<Figure size 640x480 with 1 Axes>",
      "image/png": "[encoded data removed]"
     },
     "metadata": {},
     "output_type": "display_data"
    },
    {
     "data": {
      "text/plain": "<Figure size 640x480 with 1 Axes>",
      "image/png": "[encoded data removed]"
     },
     "metadata": {},
     "output_type": "display_data"
    },
    {
     "data": {
      "text/plain": "<Figure size 640x480 with 1 Axes>",
      "image/png": "[encoded data removed]"
     },
     "metadata": {},
     "output_type": "display_data"
    },
    {
     "data": {
      "text/plain": "<Figure size 640x480 with 1 Axes>",
      "image/png": "[encoded data removed]"
     },
     "metadata": {},
     "output_type": "display_data"
    }
   ],
   "source": [
    "\"\"\"\n",
    "        TEST AGENT\n",
    "\"\"\"\n",
    "NUMBER_OF_EPISODES = 1\n",
    "env.generate_all_q_stars(horizon = agent5.horizon, tau = agent5.tau)\n",
    "\"\"\"-------------------------------------------------------------------\"\"\"\n",
    "from enviroment import render\n",
    "render(agent5,env, NUMBER_OF_EPISODES)"
   ],
   "metadata": {
    "collapsed": false
   }
  },
  {
   "cell_type": "code",
   "execution_count": 10,
   "outputs": [
    {
     "name": "stdout",
     "output_type": "stream",
     "text": [
      "Calculated until horizon 5\n",
      "Q_3\n",
      "[[ 1.52578395  0.23161361]\n",
      " [ 1.73161361  0.34900766]\n",
      " [ 0.34900766  1.33519802]\n",
      " [ 2.33519802 -1.65625663]\n",
      " [ 0.54374337  4.42735915]\n",
      " [ 3.92735915  6.11676974]\n",
      " [ 6.41676974  5.42696846]\n",
      " [ 6.22696846  0.75389534]\n",
      " [ 7.55389534 -5.97421605]]\n",
      "V_3\n",
      "[0.9590453  1.66035511 3.75457943 5.52976723 6.03963735 5.53801081\n",
      " 6.86074949 1.07489659 1.26234876]\n"
     ]
    }
   ],
   "source": [
    "horizon_step = 3\n",
    "env.generate_all_q_stars(horizon = 5, tau = 1)\n",
    "print(\"Q_3\")\n",
    "print(env.q_star[str(horizon_step)])\n",
    "print(\"V_3\")\n",
    "print(env.v_star[str(horizon_step)])\n"
   ],
   "metadata": {
    "collapsed": false
   }
  },
  {
   "cell_type": "code",
   "execution_count": null,
   "outputs": [],
   "source": [],
   "metadata": {
    "collapsed": false
   }
  }
 ],
 "metadata": {
  "kernelspec": {
   "display_name": "Python 3",
   "language": "python",
   "name": "python3"
  },
  "language_info": {
   "codemirror_mode": {
    "name": "ipython",
    "version": 2
   },
   "file_extension": ".py",
   "mimetype": "text/x-python",
   "name": "python",
   "nbconvert_exporter": "python",
   "pygments_lexer": "ipython2",
   "version": "2.7.6"
  }
 },
 "nbformat": 4,
 "nbformat_minor": 0
}
