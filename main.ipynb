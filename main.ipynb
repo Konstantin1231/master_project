{
 "cells": [
  {
   "cell_type": "code",
   "execution_count": 10,
   "outputs": [
    {
     "name": "stdout",
     "output_type": "stream",
     "text": [
      "Box(-2.0, 2.0, (1,), float32)\n"
     ]
    },
    {
     "ename": "TypeError",
     "evalue": "'Box' object is not subscriptable",
     "output_type": "error",
     "traceback": [
      "\u001B[1;31m---------------------------------------------------------------------------\u001B[0m",
      "\u001B[1;31mAttributeError\u001B[0m                            Traceback (most recent call last)",
      "Cell \u001B[1;32mIn[10], line 24\u001B[0m\n\u001B[0;32m     23\u001B[0m     \u001B[38;5;28mprint\u001B[39m(env\u001B[38;5;241m.\u001B[39maction_space)\n\u001B[1;32m---> 24\u001B[0m     action_dim \u001B[38;5;241m=\u001B[39m \u001B[43menv\u001B[49m\u001B[38;5;241;43m.\u001B[39;49m\u001B[43maction_space\u001B[49m\u001B[38;5;241;43m.\u001B[39;49m\u001B[43mn\u001B[49m\n\u001B[0;32m     25\u001B[0m \u001B[38;5;28;01mexcept\u001B[39;00m \u001B[38;5;167;01mBaseException\u001B[39;00m:\n",
      "\u001B[1;31mAttributeError\u001B[0m: 'Box' object has no attribute 'n'",
      "\nDuring handling of the above exception, another exception occurred:\n",
      "\u001B[1;31mTypeError\u001B[0m                                 Traceback (most recent call last)",
      "Cell \u001B[1;32mIn[10], line 26\u001B[0m\n\u001B[0;32m     24\u001B[0m     action_dim \u001B[38;5;241m=\u001B[39m env\u001B[38;5;241m.\u001B[39maction_space\u001B[38;5;241m.\u001B[39mn\n\u001B[0;32m     25\u001B[0m \u001B[38;5;28;01mexcept\u001B[39;00m \u001B[38;5;167;01mBaseException\u001B[39;00m:\n\u001B[1;32m---> 26\u001B[0m     \u001B[38;5;28mprint\u001B[39m(\u001B[43menv\u001B[49m\u001B[38;5;241;43m.\u001B[39;49m\u001B[43maction_space\u001B[49m\u001B[43m[\u001B[49m\u001B[38;5;241;43m0\u001B[39;49m\u001B[43m]\u001B[49m)\n\u001B[0;32m     27\u001B[0m \u001B[38;5;28mprint\u001B[39m(\u001B[38;5;124m\"\u001B[39m\u001B[38;5;124mState dim:\u001B[39m\u001B[38;5;124m\"\u001B[39m, obs_dim)\n\u001B[0;32m     28\u001B[0m \u001B[38;5;28mprint\u001B[39m(\u001B[38;5;124m\"\u001B[39m\u001B[38;5;124mAction dim:\u001B[39m\u001B[38;5;124m\"\u001B[39m, action_dim)\n",
      "\u001B[1;31mTypeError\u001B[0m: 'Box' object is not subscriptable"
     ]
    }
   ],
   "source": [
    "\"\"\"\n",
    "        SETUP ENVIRONMENT\n",
    "\"\"\"\n",
    "from enviroment import *\n",
    "import gymnasium as gym\n",
    "\"\"\"\n",
    "Some environments to try\n",
    "'CartPole-v1'\n",
    "'Maze-sample-5x5-v0'\n",
    "'MountainCar-v0'\n",
    "'FrozenLake-v1': 'FrozenLake-v1', desc=None, map_name=\"4x4\", is_slippery=False\n",
    "FrozenLake8x8-v1: 'FrozenLake-v1', desc=None, map_name=\"8x8\", is_slippery=False\n",
    "\"\"\"\n",
    "env = gym.make('Pendulum-v1', g=0.0)\n",
    "# Define a custom reward dictionary\n",
    "\n",
    "obs , _= env.reset()\n",
    "try:\n",
    "    obs_dim = len(obs)\n",
    "except BaseException:\n",
    "    obs_dim = 1\n",
    "try:\n",
    "    print(env.action_space)\n",
    "    action_dim = env.action_space.n\n",
    "except BaseException:\n",
    "    print(env.action_space[0])\n",
    "print(\"State dim:\", obs_dim)\n",
    "print(\"Action dim:\", action_dim)\n",
    "\n",
    "\"\"\"\n",
    "    Maze environment custom\n",
    "\"\"\"\n",
    "from maze_env import CustomMazeEnv\n",
    "maze_env = CustomMazeEnv()\n",
    "state = maze_env.reset()\n",
    "maze_env.render()\n",
    "maze_obs_dim = 2\n",
    "maze_action_dim = maze_env.action_space.n\n",
    "print(\"Maze State dim:\", obs_dim)\n",
    "print(\"Maze Action dim:\", action_dim)"
   ],
   "metadata": {
    "collapsed": false
   }
  },
  {
   "cell_type": "code",
   "execution_count": 2,
   "outputs": [],
   "source": [
    "\"\"\"\n",
    "        SETUP AGENT\n",
    "\"\"\"\n",
    "# REINFORCE\n",
    "BETA1 = 0.1\n",
    "BETA2 = 0.9\n",
    "LEARNING_RATE = 0.001\n",
    "from mtrshka import ReinforceAgent\n",
    "agent1 = ReinforceAgent(obs_dim,env.action_space.n, hidden_dim=32,horizon= 500, learning_rate= LEARNING_RATE)\n",
    "agent1.policy.ntk_init(beta=BETA1)\n",
    "agent2 = ReinforceAgent(obs_dim,env.action_space.n, hidden_dim=32,horizon= 500, learning_rate= LEARNING_RATE )\n",
    "agent2.policy.ntk_init(beta=BETA2)\n",
    "#ACTOR-CRITIC\n",
    "from actor_critic import Actor, Critic\n",
    "actor = Actor(obs_dim, env.action_space.n)\n",
    "critic = Critic(obs_dim)"
   ],
   "metadata": {
    "collapsed": false
   }
  },
  {
   "cell_type": "code",
   "execution_count": 3,
   "outputs": [
    {
     "name": "stdout",
     "output_type": "stream",
     "text": [
      "beta1 = 0.1    beta2 = 0.9\n",
      "Episode 1\n",
      "Reward: 25.4  and  10.6\n",
      "Episode 2\n",
      "Reward: 24.0  and  10.8\n"
     ]
    },
    {
     "name": "stderr",
     "output_type": "stream",
     "text": [
      "C:\\Users\\koq1231\\PycharmProjects\\RL\\mtrshka.py:140: UserWarning: Creating a tensor from a list of numpy.ndarrays is extremely slow. Please consider converting the list to a single numpy.ndarray with numpy.array() before converting to a tensor. (Triggered internally at C:\\actions-runner\\_work\\pytorch\\pytorch\\builder\\windows\\pytorch\\torch\\csrc\\utils\\tensor_new.cpp:248.)\n",
      "  states_tensor = torch.FloatTensor(states)\n"
     ]
    },
    {
     "name": "stdout",
     "output_type": "stream",
     "text": [
      "Episode 3\n",
      "Reward: 28.6  and  10.7\n",
      "Episode 4\n",
      "Reward: 21.4  and  10.4\n",
      "Episode 5\n",
      "Reward: 30.8  and  10.6\n",
      "Episode 6\n",
      "Reward: 31.6  and  12.9\n",
      "Episode 7\n",
      "Reward: 30.7  and  10.9\n",
      "Episode 8\n",
      "Reward: 33.6  and  11.4\n",
      "Episode 9\n",
      "Reward: 32.1  and  14.0\n",
      "Episode 10\n",
      "Reward: 37.2  and  12.5\n",
      "Episode 11\n",
      "Reward: 34.0  and  11.5\n",
      "Episode 12\n",
      "Reward: 50.4  and  12.0\n",
      "Episode 13\n",
      "Reward: 51.5  and  11.2\n",
      "Episode 14\n",
      "Reward: 45.8  and  12.4\n",
      "Episode 15\n",
      "Reward: 58.7  and  13.6\n",
      "Episode 16\n",
      "Reward: 54.0  and  13.1\n",
      "Episode 17\n",
      "Reward: 64.8  and  12.6\n",
      "Episode 18\n",
      "Reward: 78.8  and  14.4\n",
      "Episode 19\n",
      "Reward: 84.7  and  13.7\n",
      "Episode 20\n",
      "Reward: 90.5  and  11.2\n",
      "Episode 21\n",
      "Reward: 75.9  and  12.4\n",
      "Episode 22\n",
      "Reward: 100.1  and  13.1\n",
      "Episode 23\n",
      "Reward: 94.8  and  14.3\n",
      "Episode 24\n",
      "Reward: 142.9  and  17.8\n",
      "Episode 25\n",
      "Reward: 131.4  and  13.7\n",
      "Episode 26\n",
      "Reward: 199.6  and  13.8\n",
      "Episode 27\n",
      "Reward: 135.8  and  14.9\n",
      "Episode 28\n",
      "Reward: 141.4  and  16.9\n",
      "Episode 29\n",
      "Reward: 164.5  and  16.9\n",
      "Episode 30\n",
      "Reward: 222.7  and  18.8\n",
      "Episode 31\n",
      "Reward: 188.9  and  18.8\n",
      "Episode 32\n",
      "Reward: 209.9  and  15.7\n",
      "Episode 33\n",
      "Reward: 195.7  and  18.2\n",
      "Episode 34\n",
      "Reward: 181.6  and  24.0\n",
      "Episode 35\n",
      "Reward: 196.7  and  18.6\n",
      "Episode 36\n",
      "Reward: 198.1  and  25.5\n",
      "Episode 37\n",
      "Reward: 187.9  and  18.4\n",
      "Episode 38\n",
      "Reward: 210.0  and  25.3\n",
      "Episode 39\n",
      "Reward: 190.6  and  30.7\n",
      "Episode 40\n",
      "Reward: 192.6  and  28.8\n",
      "Episode 41\n",
      "Reward: 218.5  and  26.9\n",
      "Episode 42\n",
      "Reward: 215.0  and  37.6\n",
      "Episode 43\n",
      "Reward: 196.9  and  36.3\n",
      "Episode 44\n",
      "Reward: 253.5  and  49.0\n",
      "Episode 45\n",
      "Reward: 215.5  and  43.1\n",
      "Episode 46\n",
      "Reward: 322.2  and  46.7\n",
      "Episode 47\n",
      "Reward: 310.9  and  45.7\n",
      "Episode 48\n",
      "Reward: 239.4  and  47.7\n",
      "Episode 49\n",
      "Reward: 276.0  and  46.9\n",
      "Episode 50\n",
      "Reward: 256.8  and  42.7\n",
      "Episode 51\n",
      "Reward: 289.4  and  41.8\n",
      "Episode 52\n",
      "Reward: 223.3  and  40.8\n",
      "Episode 53\n",
      "Reward: 214.2  and  46.6\n",
      "Episode 54\n",
      "Reward: 224.1  and  47.1\n",
      "Episode 55\n",
      "Reward: 284.5  and  49.3\n",
      "Episode 56\n",
      "Reward: 174.6  and  59.8\n",
      "Episode 57\n",
      "Reward: 222.5  and  71.9\n",
      "Episode 58\n",
      "Reward: 226.9  and  56.4\n",
      "Episode 59\n",
      "Reward: 273.4  and  47.4\n",
      "Episode 60\n",
      "Reward: 315.3  and  48.0\n",
      "Episode 61\n",
      "Reward: 288.5  and  86.3\n",
      "Episode 62\n",
      "Reward: 307.7  and  53.7\n",
      "Episode 63\n",
      "Reward: 300.4  and  52.2\n",
      "Episode 64\n",
      "Reward: 359.2  and  67.3\n",
      "Episode 65\n",
      "Reward: 351.7  and  67.8\n",
      "Episode 66\n",
      "Reward: 376.4  and  79.0\n",
      "Episode 67\n",
      "Reward: 323.6  and  66.3\n",
      "Episode 68\n",
      "Reward: 344.3  and  79.2\n",
      "Episode 69\n",
      "Reward: 340.5  and  58.7\n",
      "Episode 70\n",
      "Reward: 357.8  and  66.5\n",
      "Episode 71\n",
      "Reward: 375.2  and  77.9\n",
      "Episode 72\n",
      "Reward: 332.6  and  86.4\n",
      "Episode 73\n",
      "Reward: 397.6  and  92.6\n",
      "Episode 74\n",
      "Reward: 419.7  and  73.1\n",
      "Episode 75\n",
      "Reward: 403.9  and  97.6\n",
      "Episode 76\n",
      "Reward: 414.5  and  147.0\n",
      "Episode 77\n",
      "Reward: 353.8  and  144.9\n",
      "Episode 78\n",
      "Reward: 385.6  and  116.0\n",
      "Episode 79\n",
      "Reward: 400.0  and  117.4\n",
      "Episode 80\n",
      "Reward: 308.1  and  138.7\n",
      "Episode 81\n",
      "Reward: 376.9  and  186.2\n",
      "Episode 82\n",
      "Reward: 429.6  and  261.1\n",
      "Episode 83\n",
      "Reward: 332.7  and  274.7\n",
      "Episode 84\n",
      "Reward: 341.2  and  229.3\n",
      "Episode 85\n",
      "Reward: 385.6  and  213.6\n",
      "Episode 86\n",
      "Reward: 369.2  and  259.1\n",
      "Episode 87\n",
      "Reward: 465.0  and  403.5\n",
      "Episode 88\n",
      "Reward: 387.8  and  334.7\n",
      "Episode 89\n",
      "Reward: 415.1  and  235.5\n",
      "Episode 90\n",
      "Reward: 345.6  and  397.8\n",
      "Episode 91\n",
      "Reward: 444.4  and  315.8\n",
      "Episode 92\n",
      "Reward: 443.1  and  352.7\n",
      "Episode 93\n",
      "Reward: 387.0  and  401.2\n",
      "Episode 94\n",
      "Reward: 338.3  and  365.6\n",
      "Episode 95\n",
      "Reward: 409.4  and  358.1\n",
      "Episode 96\n",
      "Reward: 436.6  and  375.2\n",
      "Episode 97\n",
      "Reward: 412.8  and  312.1\n",
      "Episode 98\n",
      "Reward: 354.6  and  347.6\n",
      "Episode 99\n",
      "Reward: 377.2  and  339.2\n",
      "Episode 100\n",
      "Reward: 474.2  and  407.2\n",
      "Episode 101\n",
      "Reward: 377.8  and  468.0\n",
      "Episode 102\n",
      "Reward: 446.0  and  373.8\n",
      "Episode 103\n",
      "Reward: 384.4  and  365.7\n",
      "Episode 104\n",
      "Reward: 429.5  and  380.3\n",
      "Episode 105\n",
      "Reward: 407.7  and  425.0\n",
      "Episode 106\n",
      "Reward: 386.6  and  473.9\n",
      "Episode 107\n",
      "Reward: 385.1  and  439.0\n",
      "Episode 108\n",
      "Reward: 426.5  and  419.5\n",
      "Episode 109\n",
      "Reward: 433.2  and  493.9\n",
      "Episode 110\n",
      "Reward: 395.7  and  454.2\n",
      "Episode 111\n",
      "Reward: 446.6  and  476.3\n",
      "Episode 112\n",
      "Reward: 387.7  and  427.5\n",
      "Episode 113\n",
      "Reward: 403.5  and  406.5\n",
      "Episode 114\n",
      "Reward: 402.7  and  462.5\n",
      "Episode 115\n",
      "Reward: 464.8  and  444.9\n",
      "Episode 116\n",
      "Reward: 443.6  and  490.5\n",
      "Episode 117\n",
      "Reward: 422.2  and  457.0\n",
      "Episode 118\n",
      "Reward: 470.9  and  471.8\n",
      "Episode 119\n",
      "Reward: 452.4  and  458.7\n",
      "Episode 120\n",
      "Reward: 460.6  and  483.9\n",
      "Episode 121\n",
      "Reward: 405.2  and  486.3\n",
      "Episode 122\n",
      "Reward: 451.5  and  487.7\n",
      "Episode 123\n",
      "Reward: 476.8  and  484.8\n",
      "Episode 124\n",
      "Reward: 466.8  and  471.1\n",
      "Episode 125\n",
      "Reward: 436.9  and  491.3\n",
      "Episode 126\n",
      "Reward: 475.9  and  412.8\n",
      "Episode 127\n",
      "Reward: 493.0  and  471.1\n",
      "Episode 128\n",
      "Reward: 433.7  and  404.7\n",
      "Episode 129\n",
      "Reward: 487.2  and  449.7\n",
      "Episode 130\n",
      "Reward: 428.8  and  459.7\n",
      "Episode 131\n",
      "Reward: 455.0  and  478.6\n",
      "Episode 132\n",
      "Reward: 486.8  and  482.8\n",
      "Episode 133\n",
      "Reward: 382.7  and  433.7\n",
      "Episode 134\n",
      "Reward: 455.5  and  423.1\n",
      "Episode 135\n",
      "Reward: 454.4  and  420.3\n",
      "Episode 136\n",
      "Reward: 339.8  and  451.7\n",
      "Episode 137\n",
      "Reward: 488.7  and  471.3\n",
      "Episode 138\n",
      "Reward: 494.6  and  351.9\n",
      "Episode 139\n",
      "Reward: 463.9  and  384.1\n",
      "Episode 140\n",
      "Reward: 491.2  and  419.5\n",
      "Episode 141\n",
      "Reward: 456.6  and  455.0\n",
      "Episode 142\n",
      "Reward: 449.9  and  448.9\n",
      "Episode 143\n",
      "Reward: 344.7  and  464.6\n",
      "Episode 144\n",
      "Reward: 412.1  and  394.8\n",
      "Episode 145\n",
      "Reward: 483.7  and  467.2\n",
      "Episode 146\n",
      "Reward: 473.7  and  471.3\n",
      "Episode 147\n",
      "Reward: 475.4  and  372.6\n",
      "Episode 148\n",
      "Reward: 452.3  and  364.2\n",
      "Episode 149\n",
      "Reward: 462.7  and  383.0\n",
      "Episode 150\n",
      "Reward: 488.3  and  447.0\n"
     ]
    },
    {
     "data": {
      "text/plain": "<matplotlib.legend.Legend at 0x21f2e26e400>"
     },
     "execution_count": 3,
     "metadata": {},
     "output_type": "execute_result"
    },
    {
     "data": {
      "text/plain": "<Figure size 1000x1000 with 1 Axes>",
      "image/png": "[encoded data removed]"
     },
     "metadata": {},
     "output_type": "display_data"
    }
   ],
   "source": [
    "\"\"\"\n",
    "        TRAINING (REINFORCE)\n",
    "\"\"\"\n",
    "import torch\n",
    "from utils import run_episodes\n",
    "import matplotlib.pyplot as plt\n",
    "NUM_EPOCHES = 150\n",
    "N_EPISODES = 10 # ^number of episodes per epoch\n",
    "\"\"\"-------------------------------------------------------------------\"\"\"\n",
    "obs_dim = agent1.ObsSpaceDim\n",
    "initialize_env(env, obs_dim = obs_dim)\n",
    "fig = plt.figure(figsize=(10,10))\n",
    "ax1 = fig.add_subplot(1,1,1)\n",
    "loss_list = []\n",
    "loss_ntk_list = []\n",
    "# Train for a number of epochs\n",
    "print(f\"beta1 = {BETA1}    beta2 = {BETA2}\")\n",
    "for epoch in range(NUM_EPOCHES ):\n",
    "    episodes = run_episodes(agent1, env, n_episodes=N_EPISODES,  game= \"NON\")  # Collect episodes\n",
    "    episodes_ntk = run_episodes(agent2, env, n_episodes=N_EPISODES,  game= \"NON\")  # Collect episodes\n",
    "\n",
    "    loss = agent1.train( episodes)  # Update the policy based on the episodes\n",
    "    loss_ntk = agent2.train(episodes_ntk)  # Update the policy based on the episodes\n",
    "    loss_list.append(loss)\n",
    "    loss_ntk_list.append(loss_ntk)\n",
    "    print(f\"Episode {epoch + 1}\")\n",
    "    print(f'Reward: {loss}  and  {loss_ntk}')\n",
    "    env_reset(env)\n",
    "close_env(env)\n",
    "ax1.scatter(range(len(loss_list)),loss_list, label=f\"{BETA1}\")\n",
    "ax1.scatter(range(len(loss_ntk_list)),loss_ntk_list, label=f\"{BETA2}\")\n",
    "ax1.grid()\n",
    "ax1.legend()\n"
   ],
   "metadata": {
    "collapsed": false
   }
  },
  {
   "cell_type": "code",
   "execution_count": 4,
   "outputs": [],
   "source": [
    "\"\"\" TEST AGENT\"\"\"\n",
    "\"-------------------TEST-------------------\"\n",
    "env = gym.make('CartPole-v1', render_mode = \"human\")\n",
    "run_episodes(agent1, env, n_episodes=10)\n",
    "env.reset()\n",
    "run_episodes(agent2, env, n_episodes=10)\n",
    "close_env(env)"
   ],
   "metadata": {
    "collapsed": false
   }
  },
  {
   "cell_type": "code",
   "execution_count": 11,
   "outputs": [
    {
     "name": "stdout",
     "output_type": "stream",
     "text": [
      "State dim: 4\n",
      "Action dim: 2\n",
      "beta1 = 0.5 \n",
      "Episode 1\n",
      "Reward: 20.2 \n",
      "Episode 11\n",
      "Reward: 39.7 \n",
      "Episode 21\n",
      "Reward: 35.8 \n",
      "Episode 31\n",
      "Reward: 40.7 \n",
      "Episode 41\n",
      "Reward: 122.4 \n",
      "Episode 51\n",
      "Reward: 202.7 \n",
      "Episode 61\n",
      "Reward: 316.2 \n",
      "Episode 71\n",
      "Reward: 390.1 \n",
      "Episode 81\n",
      "Reward: 453.7 \n",
      "Episode 91\n",
      "Reward: 410.9 \n",
      "Episode 101\n",
      "Reward: 420.9 \n",
      "Episode 111\n",
      "Reward: 470.9 \n",
      "Episode 121\n",
      "Reward: 483.5 \n",
      "Episode 131\n",
      "Reward: 416.6 \n",
      "Episode 141\n",
      "Reward: 479.9 \n"
     ]
    },
    {
     "data": {
      "text/plain": "<matplotlib.legend.Legend at 0x21f39ebc310>"
     },
     "execution_count": 11,
     "metadata": {},
     "output_type": "execute_result"
    },
    {
     "data": {
      "text/plain": "<Figure size 1000x1000 with 1 Axes>",
      "image/png": "[encoded data removed]"
     },
     "metadata": {},
     "output_type": "display_data"
    }
   ],
   "source": [
    "\"\"\"\n",
    "    Matryoshka\n",
    "\"\"\"\n",
    "from enviroment import *\n",
    "import gymnasium as gym\n",
    "import torch.optim as optim\n",
    "from mtrshka import MTRAgent, PolicyNet\n",
    "import matplotlib.pyplot as plt\n",
    "from utils import run_episodes_mtr\n",
    "LEARNING_RATE = 0.001\n",
    "NUM_EPOCHES = 150\n",
    "N_EPISODES = 10 # ^number of episodes per epoch\n",
    "BETA = 0.5\n",
    "env = gym.make('CartPole-v1')\n",
    "obs , _= env.reset()\n",
    "try:\n",
    "    obs_dim = len(obs)\n",
    "except BaseException:\n",
    "    obs_dim = 1\n",
    "action_dim = env.action_space.n\n",
    "print(\"State dim:\", obs_dim)\n",
    "print(\"Action dim:\", action_dim)\n",
    "\"\"\"-------------------------------------------------------------------\"\"\"\n",
    "agent = MTRAgent(obs_dim, env.action_space.n, hidden_dim= 32, horizon= 500, learning_rate= LEARNING_RATE )\n",
    "agent.policy.ntk_init(beta=BETA)\n",
    "initialize_env(env, obs_dim = obs_dim)\n",
    "fig = plt.figure(figsize=(10,10))\n",
    "ax1 = fig.add_subplot(1,1,1)\n",
    "loss_list = []\n",
    "# Train for a number of epochs\n",
    "print(f\"beta1 = {BETA} \")\n",
    "for epoch in range(NUM_EPOCHES ):\n",
    "    episodes = run_episodes_mtr(agent, env, n_episodes=N_EPISODES, game= \"NON\")  # Collect episodes\n",
    "    loss = agent.train(episodes)  # Update the policy based on the episodes\n",
    "    loss_list.append(loss)\n",
    "    if epoch%10 == 0:\n",
    "        print(f\"Episode {epoch + 1}\")\n",
    "        print(f'Reward: {loss} ')\n",
    "    env_reset(env)\n",
    "close_env(env)\n",
    "ax1.scatter(range(len(loss_list)),loss_list, label=f\"{BETA}\")\n",
    "ax1.grid()\n",
    "ax1.legend()"
   ],
   "metadata": {
    "collapsed": false
   }
  },
  {
   "cell_type": "code",
   "execution_count": 12,
   "outputs": [],
   "source": [
    "env = gym.make(\"CartPole-v1\", render_mode = \"human\")\n",
    "for epoch in range(10 ):\n",
    "    episodes = run_episodes_mtr(agent, env, n_episodes=1, game= \"NON\")  # Collect episodes\n",
    "    env_reset(env)\n",
    "env.close()"
   ],
   "metadata": {
    "collapsed": false
   }
  },
  {
   "cell_type": "code",
   "execution_count": null,
   "outputs": [],
   "source": [],
   "metadata": {
    "collapsed": false
   }
  },
  {
   "cell_type": "code",
   "execution_count": null,
   "outputs": [],
   "source": [],
   "metadata": {
    "collapsed": false
   }
  },
  {
   "cell_type": "code",
   "execution_count": null,
   "outputs": [],
   "source": [],
   "metadata": {
    "collapsed": false
   }
  },
  {
   "cell_type": "code",
   "execution_count": null,
   "outputs": [],
   "source": [],
   "metadata": {
    "collapsed": false
   }
  },
  {
   "cell_type": "code",
   "execution_count": null,
   "outputs": [],
   "source": [],
   "metadata": {
    "collapsed": false
   }
  },
  {
   "cell_type": "code",
   "execution_count": null,
   "outputs": [],
   "source": [],
   "metadata": {
    "collapsed": false
   }
  },
  {
   "cell_type": "code",
   "execution_count": null,
   "outputs": [],
   "source": [],
   "metadata": {
    "collapsed": false
   }
  },
  {
   "cell_type": "code",
   "execution_count": null,
   "outputs": [],
   "source": [],
   "metadata": {
    "collapsed": false
   }
  },
  {
   "cell_type": "code",
   "execution_count": null,
   "outputs": [],
   "source": [],
   "metadata": {
    "collapsed": false
   }
  },
  {
   "cell_type": "code",
   "execution_count": null,
   "outputs": [],
   "source": [],
   "metadata": {
    "collapsed": false
   }
  },
  {
   "cell_type": "code",
   "execution_count": null,
   "outputs": [],
   "source": [],
   "metadata": {
    "collapsed": false
   }
  },
  {
   "cell_type": "code",
   "execution_count": null,
   "outputs": [],
   "source": [],
   "metadata": {
    "collapsed": false
   }
  },
  {
   "cell_type": "code",
   "execution_count": null,
   "outputs": [],
   "source": [],
   "metadata": {
    "collapsed": false
   }
  },
  {
   "cell_type": "code",
   "execution_count": null,
   "outputs": [],
   "source": [],
   "metadata": {
    "collapsed": false
   }
  },
  {
   "cell_type": "code",
   "execution_count": null,
   "outputs": [],
   "source": [],
   "metadata": {
    "collapsed": false
   }
  },
  {
   "cell_type": "code",
   "execution_count": null,
   "outputs": [],
   "source": [
    "\"\"\"\n",
    "        TRAINING (REINFORCE) PARALLEL\n",
    "\"\"\"\n",
    "\n",
    "LEARNING_RATE = 0.01\n",
    "NUM_EPOCHES = 30\n",
    "N_EPISODES = 20 # ^number of episodes per epoch\n",
    "\"\"\"-------------------------------------------------------------------\"\"\"\n",
    "import torch.optim as optim\n",
    "from try_grad_policy import train_policy\n",
    "import multiprocessing\n",
    "\n",
    "optimizer = optim.Adam(policy.parameters(), lr=LEARNING_RATE)  # Define the optimizer\n",
    "optimizer_ntk = optim.Adam(ntk_policy.parameters(), lr=LEARNING_RATE)  # Define the optimizer\n",
    "\n",
    "\n",
    "initialize_env(env)\n",
    "\n",
    "output_queue1 = multiprocessing.Queue()\n",
    "output_queue2 = multiprocessing.Queue()\n",
    "run_process1 = multiprocessing.Process(target=run_episodes, args=(policy, env,output_queue1, N_EPISODES))\n",
    "run_process2 = multiprocessing.Process(target=run_episodes, args=(ntk_policy, env,output_queue2, N_EPISODES))\n",
    "\n",
    "\n",
    "# Train for a number of epochs\n",
    "for epoch in range(NUM_EPOCHES ):\n",
    "    run_process1.start()  # Collect episodes\n",
    "    run_process2.start()\n",
    "    # Join the processes to wait for them to finish\n",
    "    run_process1.join()\n",
    "    run_process2.join()\n",
    "    # Get the outputs from both processes\n",
    "    episodes = output_queue1.get()\n",
    "    ntk_episodes = output_queue2.get()\n",
    "    loss = train_policy(policy, optimizer, episodes)  # Update the policy based on the episodes\n",
    "    ntk_loss = train_policy(ntk_policy, optimizer_ntk, ntk_episodes)  # Update the ntk_policy based on the episodes\n",
    "    print(f'Episode {epoch + 1}, Total Loss: {BETA1}={loss} and {BETA2}={ntk_loss} ')\n",
    "close_env(env)\n",
    "\"-------------------TEST-------------------\"\n",
    "env = gym.make('CartPole-v1', render_mode = \"human\" )\n",
    "run_episodes(policy, env, n_episodes=10)"
   ],
   "metadata": {
    "collapsed": false
   }
  },
  {
   "cell_type": "markdown",
   "source": [],
   "metadata": {
    "collapsed": false
   }
  },
  {
   "cell_type": "markdown",
   "source": [],
   "metadata": {
    "collapsed": false
   }
  },
  {
   "cell_type": "markdown",
   "source": [],
   "metadata": {
    "collapsed": false
   }
  },
  {
   "cell_type": "markdown",
   "source": [],
   "metadata": {
    "collapsed": false
   }
  },
  {
   "cell_type": "markdown",
   "source": [],
   "metadata": {
    "collapsed": false
   }
  },
  {
   "cell_type": "code",
   "execution_count": null,
   "outputs": [],
   "source": [],
   "metadata": {
    "collapsed": false
   }
  }
 ],
 "metadata": {
  "kernelspec": {
   "display_name": "Python 3",
   "language": "python",
   "name": "python3"
  },
  "language_info": {
   "codemirror_mode": {
    "name": "ipython",
    "version": 2
   },
   "file_extension": ".py",
   "mimetype": "text/x-python",
   "name": "python",
   "nbconvert_exporter": "python",
   "pygments_lexer": "ipython2",
   "version": "2.7.6"
  }
 },
 "nbformat": 4,
 "nbformat_minor": 0
}
