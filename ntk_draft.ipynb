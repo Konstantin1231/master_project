{
 "cells": [
  {
   "cell_type": "code",
   "execution_count": 2,
   "metadata": {
    "collapsed": true
   },
   "outputs": [],
   "source": [
    "import numpy as np\n",
    "import matplotlib.pyplot as plt\n",
    "from jax import random\n",
    "import jax.numpy as jnp\n",
    "from neural_tangents import stax\n",
    "\n",
    "# Generate dataset\n",
    "x_train = np.linspace(-np.pi, np.pi, 400).reshape(-1, 1)\n",
    "y_train = np.sin(x_train)\n",
    "\n",
    "x_test = np.linspace(-1.5*np.pi, 1.5*np.pi, 1000).reshape(-1, 1)\n",
    "\n"
   ]
  },
  {
   "cell_type": "code",
   "execution_count": 9,
   "outputs": [],
   "source": [
    "def FullyConnectedNetwork(depth=7):\n",
    "    layers = []\n",
    "    for _ in range(depth):\n",
    "        layers.append(stax.Dense(512))  # Width is 512 (can be adjusted)\n",
    "        layers.append(stax.Relu())\n",
    "    layers.append(stax.Dense(1))\n",
    "    return stax.serial(*layers)\n",
    "\n",
    "init_fn, apply_fn, kernel_fn = FullyConnectedNetwork()\n"
   ],
   "metadata": {
    "collapsed": false
   }
  },
  {
   "cell_type": "code",
   "execution_count": 11,
   "outputs": [
    {
     "ename": "TypeError",
     "evalue": "predict_fn() got an unexpected keyword argument 'kernel'",
     "output_type": "error",
     "traceback": [
      "\u001B[1;31m---------------------------------------------------------------------------\u001B[0m",
      "\u001B[1;31mTypeError\u001B[0m                                 Traceback (most recent call last)",
      "Cell \u001B[1;32mIn[11], line 9\u001B[0m\n\u001B[0;32m      7\u001B[0m \u001B[38;5;66;03m# Train using the NTK\u001B[39;00m\n\u001B[0;32m      8\u001B[0m predictor \u001B[38;5;241m=\u001B[39m predict\u001B[38;5;241m.\u001B[39mgradient_descent_mse(ntk_train_train, y_train)\n\u001B[1;32m----> 9\u001B[0m y_test_ntk \u001B[38;5;241m=\u001B[39m \u001B[43mpredictor\u001B[49m\u001B[43m(\u001B[49m\u001B[43mt\u001B[49m\u001B[38;5;241;43m=\u001B[39;49m\u001B[38;5;241;43m1.0\u001B[39;49m\u001B[43m,\u001B[49m\u001B[43m \u001B[49m\u001B[43mkernel\u001B[49m\u001B[38;5;241;43m=\u001B[39;49m\u001B[43mntk_test_train\u001B[49m\u001B[43m)\u001B[49m\n",
      "\u001B[1;31mTypeError\u001B[0m: predict_fn() got an unexpected keyword argument 'kernel'"
     ]
    }
   ],
   "source": [
    "from neural_tangents import predict\n",
    "\n",
    "ntk_train_train = kernel_fn(x_train, x_train, 'ntk')\n",
    "ntk_test_train = kernel_fn(x_test, x_train, 'ntk')\n",
    "ntk_test_test = kernel_fn(x_test, x_test, 'ntk')\n",
    "\n",
    "# Train using the NTK\n",
    "predictor = predict.gradient_descent_mse(ntk_train_train, y_train)\n",
    "y_test_ntk = predictor(t=1.0, kernel=ntk_test_train)\n",
    "\n",
    "\n",
    "\n",
    "\n"
   ],
   "metadata": {
    "collapsed": false
   }
  },
  {
   "cell_type": "code",
   "execution_count": null,
   "outputs": [],
   "source": [],
   "metadata": {
    "collapsed": false
   }
  }
 ],
 "metadata": {
  "kernelspec": {
   "display_name": "Python 3",
   "language": "python",
   "name": "python3"
  },
  "language_info": {
   "codemirror_mode": {
    "name": "ipython",
    "version": 2
   },
   "file_extension": ".py",
   "mimetype": "text/x-python",
   "name": "python",
   "nbconvert_exporter": "python",
   "pygments_lexer": "ipython2",
   "version": "2.7.6"
  }
 },
 "nbformat": 4,
 "nbformat_minor": 0
}
